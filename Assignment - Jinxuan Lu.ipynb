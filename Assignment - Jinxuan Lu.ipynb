{
 "cells": [
  {
   "cell_type": "markdown",
   "id": "cbaa13fc",
   "metadata": {},
   "source": [
    "# Assignment - Jinxuan Lu"
   ]
  },
  {
   "cell_type": "markdown",
   "id": "d396aaf9",
   "metadata": {},
   "source": [
    "1.\tUse the constructor methods & object literals to create different data types in python (integer,float,string,list,tuple,dictionary,set etc.).Also use object literals to create those data types."
   ]
  },
  {
   "cell_type": "code",
   "execution_count": 2,
   "id": "787e9b75",
   "metadata": {},
   "outputs": [],
   "source": [
    "#integer\n",
    "x = int(5)\n",
    "y = 5"
   ]
  },
  {
   "cell_type": "code",
   "execution_count": 3,
   "id": "d1340bb3",
   "metadata": {},
   "outputs": [],
   "source": [
    "#float\n",
    "x = float(3.5)\n",
    "y = 3.14"
   ]
  },
  {
   "cell_type": "code",
   "execution_count": null,
   "id": "d7f9a020",
   "metadata": {},
   "outputs": [],
   "source": [
    "#string\n",
    "x = str(\"My name is Jinxuan\")\n",
    "y = \"My name is Jinxuan.\""
   ]
  },
  {
   "cell_type": "code",
   "execution_count": 5,
   "id": "cbdbe064",
   "metadata": {},
   "outputs": [
    {
     "data": {
      "text/plain": [
       "['blue', 'red', 'yellow']"
      ]
     },
     "execution_count": 5,
     "metadata": {},
     "output_type": "execute_result"
    }
   ],
   "source": [
    "#list\n",
    "x = list((\"blue\",\"red\",\"yellow\"))\n",
    "y = [\"blue\",\"red\",\"yellow\"]"
   ]
  },
  {
   "cell_type": "code",
   "execution_count": 8,
   "id": "68b61b77",
   "metadata": {},
   "outputs": [
    {
     "data": {
      "text/plain": [
       "('Tom', 'Jerry', 'Marry')"
      ]
     },
     "execution_count": 8,
     "metadata": {},
     "output_type": "execute_result"
    }
   ],
   "source": [
    "#tuple\n",
    "x = tuple((\"Tom\",\"Jerry\",\"Marry\"))\n",
    "y = (\"Tom\",\"Jerry\",\"Marry\") # or y = (1,2,3,4,5)"
   ]
  },
  {
   "cell_type": "code",
   "execution_count": null,
   "id": "c44d54ab",
   "metadata": {},
   "outputs": [],
   "source": [
    "#dictionary\n",
    "x = dict(name = \"Tom\", gender = \"male\", age = 30)\n",
    "y = {\"name\": \"Tom\", \"gender\": \"male\", \"age\": 36}"
   ]
  },
  {
   "cell_type": "code",
   "execution_count": null,
   "id": "f14d0a02",
   "metadata": {},
   "outputs": [],
   "source": [
    "#set\n",
    "x = set((\"blue\", \"red\", \"yellow\"))\n",
    "y = {\"blue\", \"red\", \"yellow\"}"
   ]
  },
  {
   "cell_type": "markdown",
   "id": "2ff36572",
   "metadata": {},
   "source": [
    "2. Create two operands and play around using different operators"
   ]
  },
  {
   "cell_type": "code",
   "execution_count": 12,
   "id": "575f3fd2",
   "metadata": {},
   "outputs": [],
   "source": [
    "x = 5\n",
    "y = 2"
   ]
  },
  {
   "cell_type": "code",
   "execution_count": 13,
   "id": "712b28a9",
   "metadata": {},
   "outputs": [
    {
     "name": "stdout",
     "output_type": "stream",
     "text": [
      "x + y = 7\n",
      "x - y = 3\n",
      "x * y = 10\n",
      "x / y = 2.5\n",
      "x % y = 1\n",
      "x ** y = 25\n",
      "x // y = 2\n"
     ]
    }
   ],
   "source": [
    "#Arithmetic operators\n",
    "print(\"x + y =\", x + y)\n",
    "print(\"x - y =\", x - y)\n",
    "print(\"x * y =\", x * y)\n",
    "print(\"x / y =\", x / y)\n",
    "print(\"x % y =\", x % y)\n",
    "print(\"x ** y =\", x ** y)\n",
    "print(\"x // y =\", x // y)"
   ]
  },
  {
   "cell_type": "code",
   "execution_count": 21,
   "id": "d001a0f1",
   "metadata": {},
   "outputs": [
    {
     "name": "stdout",
     "output_type": "stream",
     "text": [
      "x != y:  True\n",
      "x >= y:  True\n",
      "x <= y:  False\n"
     ]
    }
   ],
   "source": [
    "#comparison operators\n",
    "print(\"x != y: \", x != y)\n",
    "print(\"x >= y: \", x >= y)\n",
    "print(\"x <= y: \", x <= y)"
   ]
  },
  {
   "cell_type": "code",
   "execution_count": 22,
   "id": "4838bffa",
   "metadata": {},
   "outputs": [
    {
     "name": "stdout",
     "output_type": "stream",
     "text": [
      "x or y:  True\n"
     ]
    }
   ],
   "source": [
    "#logical operators\n",
    "x = True\n",
    "y = False\n",
    "print(\"x or y: \", x or y)\n"
   ]
  },
  {
   "cell_type": "markdown",
   "id": "c3920374",
   "metadata": {},
   "source": [
    "3. Once you create an object of each data type, run dir(object). Navigate the magic methods/dunder methods and other methods and attributes of each object. Try to implement those methods and attributes as many as possible."
   ]
  },
  {
   "cell_type": "code",
   "execution_count": 37,
   "id": "1e5d809d",
   "metadata": {},
   "outputs": [
    {
     "name": "stdout",
     "output_type": "stream",
     "text": [
      "['__abs__', '__add__', '__and__', '__bool__', '__ceil__', '__class__', '__delattr__', '__dir__', '__divmod__', '__doc__', '__eq__', '__float__', '__floor__', '__floordiv__', '__format__', '__ge__', '__getattribute__', '__getnewargs__', '__gt__', '__hash__', '__index__', '__init__', '__init_subclass__', '__int__', '__invert__', '__le__', '__lshift__', '__lt__', '__mod__', '__mul__', '__ne__', '__neg__', '__new__', '__or__', '__pos__', '__pow__', '__radd__', '__rand__', '__rdivmod__', '__reduce__', '__reduce_ex__', '__repr__', '__rfloordiv__', '__rlshift__', '__rmod__', '__rmul__', '__ror__', '__round__', '__rpow__', '__rrshift__', '__rshift__', '__rsub__', '__rtruediv__', '__rxor__', '__setattr__', '__sizeof__', '__str__', '__sub__', '__subclasshook__', '__truediv__', '__trunc__', '__xor__', 'as_integer_ratio', 'bit_length', 'conjugate', 'denominator', 'from_bytes', 'imag', 'numerator', 'real', 'to_bytes']\n",
      "<class 'int'>\n",
      "True\n",
      "14\n",
      "14\n",
      "45\n",
      "45\n"
     ]
    }
   ],
   "source": [
    "#integer\n",
    "x = 5\n",
    "print(dir(x))\n",
    "print(type(x))\n",
    "print(isinstance(x, int)) \n",
    "print(x.__add__(9)) \n",
    "print(x + 9) \n",
    "print(x.__mul__(9)) \n",
    "print(x * 9) "
   ]
  },
  {
   "cell_type": "code",
   "execution_count": 39,
   "id": "92e47dc7",
   "metadata": {},
   "outputs": [
    {
     "name": "stdout",
     "output_type": "stream",
     "text": [
      "['__add__', '__class__', '__contains__', '__delattr__', '__dir__', '__doc__', '__eq__', '__format__', '__ge__', '__getattribute__', '__getitem__', '__getnewargs__', '__gt__', '__hash__', '__init__', '__init_subclass__', '__iter__', '__le__', '__len__', '__lt__', '__mod__', '__mul__', '__ne__', '__new__', '__reduce__', '__reduce_ex__', '__repr__', '__rmod__', '__rmul__', '__setattr__', '__sizeof__', '__str__', '__subclasshook__', 'capitalize', 'casefold', 'center', 'count', 'encode', 'endswith', 'expandtabs', 'find', 'format', 'format_map', 'index', 'isalnum', 'isalpha', 'isascii', 'isdecimal', 'isdigit', 'isidentifier', 'islower', 'isnumeric', 'isprintable', 'isspace', 'istitle', 'isupper', 'join', 'ljust', 'lower', 'lstrip', 'maketrans', 'partition', 'removeprefix', 'removesuffix', 'replace', 'rfind', 'rindex', 'rjust', 'rpartition', 'rsplit', 'rstrip', 'split', 'splitlines', 'startswith', 'strip', 'swapcase', 'title', 'translate', 'upper', 'zfill']\n",
      "<class 'str'>\n",
      "True\n",
      "hello python\n",
      "hello python\n",
      "5\n",
      "5\n"
     ]
    }
   ],
   "source": [
    "#string\n",
    "y = str(\"hello\")\n",
    "print(dir(y))\n",
    "print(type(y)) \n",
    "print(isinstance(y, str)) \n",
    "print(y.__add__(\" python\")) \n",
    "print(y + \" python\") \n",
    "print(y.__len__()) \n",
    "print(len(y)) "
   ]
  },
  {
   "cell_type": "markdown",
   "id": "68917f0f",
   "metadata": {},
   "source": [
    "4. Learn different ways to format the string."
   ]
  },
  {
   "cell_type": "code",
   "execution_count": 40,
   "id": "ceaa39da",
   "metadata": {},
   "outputs": [
    {
     "name": "stdout",
     "output_type": "stream",
     "text": [
      "I love python\n",
      "I love python\n",
      "I love python version 3.1\n",
      "I love python version 3.10\n",
      "I love python version 3.10\n",
      "I love python version 3.1\n"
     ]
    }
   ],
   "source": [
    "print(\"I love\", \"python\")\n",
    "print(\"I love\" + \" python\")\n",
    "print(\"I love\"+ \" python\" + \" version\",3.10)\n",
    "print(\"I love\"+ \" python\" + \" version %.2f\"%3.10)\n",
    "print(\"I love %s version %.2f\"%(\"python\",3.10))"
   ]
  },
  {
   "cell_type": "code",
   "execution_count": 43,
   "id": "da90d7ba",
   "metadata": {},
   "outputs": [
    {
     "name": "stdout",
     "output_type": "stream",
     "text": [
      "I love python version 3.1\n",
      "I love python version 3.10\n",
      "I love python version 3.10\n",
      "I love 3.10 version of python\n"
     ]
    }
   ],
   "source": [
    "#using format positional argument\n",
    "print(\"I love {} version {}\".format(\"python\", 3.10))\n",
    "print(\"I love {} version {}\".format(\"python\", \"3.10\"))\n",
    "print(\"I love {} version {:.2f}\".format(\"python\", 3.10))\n",
    "print(\"I love {1} version of {0}\".format(\"python\", \"3.10\"))"
   ]
  },
  {
   "cell_type": "code",
   "execution_count": 46,
   "id": "f5d0058c",
   "metadata": {},
   "outputs": [
    {
     "name": "stdout",
     "output_type": "stream",
     "text": [
      "I love python version 3.10\n"
     ]
    }
   ],
   "source": [
    "#using format keyword argument\n",
    "print(\"I love {pl} version {version:.2f}\".format(pl=\"python\", version=3.10))"
   ]
  },
  {
   "cell_type": "code",
   "execution_count": 49,
   "id": "6e9b4d81",
   "metadata": {},
   "outputs": [
    {
     "name": "stdout",
     "output_type": "stream",
     "text": [
      "I love python version 3.10\n",
      "I love python version 3.10\n",
      "I love python\n"
     ]
    }
   ],
   "source": [
    "#using f-string literal\n",
    "info={\"pl\":\"python\",\"version\":3.10}\n",
    "print(f\"I love {info.get('pl')} version {info.get('version'):.2f}\")\n",
    "\n",
    "print(F'I love {info[\"pl\"]} version {info[\"version\"]:.2f}')\n",
    "\n",
    "#f-string conditional\n",
    "batch='ML'\n",
    "print(f'I love {\"javascript\" if batch==\"FS\" else \"python\"}')"
   ]
  },
  {
   "cell_type": "markdown",
   "id": "3801322d",
   "metadata": {},
   "source": [
    "5.\tFamiliarize yourself with indexing in python.Iterables can be accessed using index values in python. Eg: list, tuple,dict, set \n",
    "\n",
    "a.\tCreate a list of items. Eg:countries= [“Finland”,“Sweden”,”Denmark”,”Netherlands”,”Germany”,”Norway”,”Iceland”]\n",
    "\n",
    "b.\tFind the index of “Sweden”. \n",
    "\n",
    "c.\tGet all the items except the first\n",
    "\n",
    "d.\tGet all the items except the last\n",
    "\n",
    "e.\tFind the last item using negative indexing\n",
    "\n",
    "f.\tFind the last three item using negative indexing\n",
    "\n",
    "g.\tGrab all the items with odd indices\n",
    "\n",
    "h.\tFind the first and last item for the list\n",
    "\n",
    "i.\tGet [”Netherlands”,”Germany”,”Norway”] using negative indexing\n",
    "\n",
    "j.\tReverse the list\n",
    "\n",
    "k.\tWhat is the output of countries[::-2]\n",
    "\n",
    "l.\tWhat is the output of countries[1:100:2]?\n",
    "\n",
    "m.\tWhat is the output of countries[len(countries)-1:0:2]?\n",
    "\n",
    "n.\tGet the output ['Germany', 'Netherlands', 'Denmark']\n",
    "\n",
    "o.\tUse enumerate method to get index and values in the list"
   ]
  },
  {
   "cell_type": "code",
   "execution_count": 71,
   "id": "5070f81a",
   "metadata": {},
   "outputs": [
    {
     "name": "stdout",
     "output_type": "stream",
     "text": [
      "1\n",
      "['Sweden', 'Denmark', 'Netherlands', 'Germany', 'Norway', 'Iceland']\n",
      "['Finland', 'Sweden', 'Denmark', 'Netherlands', 'Germany', 'Norway']\n",
      "Iceland\n",
      "['Germany', 'Norway', 'Iceland']\n",
      "['Sweden', 'Netherlands', 'Norway']\n",
      "Finland Iceland\n",
      "['Netherlands', 'Germany', 'Norway']\n",
      "['Iceland', 'Norway', 'Germany', 'Netherlands', 'Denmark', 'Sweden', 'Finland']\n",
      "['Iceland', 'Germany', 'Denmark', 'Finland']\n",
      "['Sweden', 'Netherlands', 'Norway']\n",
      "[]\n",
      "['Germany', 'Netherlands', 'Denmark']\n",
      "0 Finland\n",
      "1 Sweden\n",
      "2 Denmark\n",
      "3 Netherlands\n",
      "4 Germany\n",
      "5 Norway\n",
      "6 Iceland\n"
     ]
    }
   ],
   "source": [
    "#a\n",
    "countries = [\"Finland\",\"Sweden\",\"Denmark\",\"Netherlands\",\"Germany\",\"Norway\",\"Iceland\"]\n",
    "\n",
    "b = countries.index(\"Sweden\")\n",
    "print(b)\n",
    "\n",
    "c = countries[1:]\n",
    "print(c)\n",
    "\n",
    "d = countries[:-1]\n",
    "print(d)\n",
    "\n",
    "e = countries[-1]\n",
    "print(e)\n",
    "\n",
    "f = countries[-3: ]\n",
    "print(f)\n",
    "\n",
    "g = countries[1::2]\n",
    "print(g)\n",
    "\n",
    "h1 = countries[0]\n",
    "h2 = countries[-1]\n",
    "print(h1, h2)\n",
    "\n",
    "i = countries[-4:-1]\n",
    "print(i)\n",
    "\n",
    "j = countries[::-1]\n",
    "print(j)\n",
    "\n",
    "k = countries[::-2]\n",
    "print(k) #['Iceland', 'Germany', 'Denmark', 'Finland']\n",
    "\n",
    "l = countries[1:100:2]\n",
    "print(l) #['Sweden', 'Netherlands', 'Norway']\n",
    "\n",
    "m = countries[len(countries)-1:0:2]\n",
    "print(m) #[]\n",
    "\n",
    "n = countries[-3:-6:-1]\n",
    "print(n)\n",
    "\n",
    "#o\n",
    "for index, value in enumerate(countries):\n",
    "    print(index, value)"
   ]
  },
  {
   "cell_type": "markdown",
   "id": "d0623625",
   "metadata": {},
   "source": [
    "6. Exercise on dictionaries\n",
    "\n",
    "a.\tGiven the two lists of same length, create a dictionary using a list as keys and another list as values without using loop. Eg: [\"a\",\"b\",\"c\",\"d\"],[1,2,3,4] lists should be made {'a': 1, 'b': 2, 'c': 3, 'd': 4}\n",
    "Hint: zip method\n",
    "\n",
    "b.\tCreate two dictionaries, merge them into one.\n",
    "Hint: update method/dictionary unpacking\n",
    "\n",
    "c.\tGiven the list of students, assign them the course.\n",
    "Students=[“Duy”, “Laxmi”,”Antonio”,”Maria”]\n",
    "Course[\"Python\",\"Database\",\"ML\"] \n",
    "Should result to the new dictionary students_profile=\n",
    "{'Duy': ['Python', 'Database', 'ML'], 'Laxmi': ['Python', 'Database', 'ML'],\n",
    " 'Antonio': ['Python', 'Database', 'ML'],'Maria': ['Python', 'Database', 'ML']}\n",
    "\n",
    "d.\tModify Antonio’s course to [\"JavaScript\",\"Database\",\"NodeJS\"]\n",
    "\n",
    "e.\tAdd “ReactJs” to Anonio’s course\n",
    "\n",
    "f.\tReplace Antonio’s “ReactJs” to “Vuejs”\n",
    "\n",
    "g.\tRemove an item from dictionary\n"
   ]
  },
  {
   "cell_type": "code",
   "execution_count": 80,
   "id": "4a42a035",
   "metadata": {},
   "outputs": [
    {
     "name": "stdout",
     "output_type": "stream",
     "text": [
      "{'a': 1, 'b': 2, 'c': 3, 'd': 4}\n",
      "{'x': 3, 'y': 4, 'm': 1, 'n': 9}\n",
      "{'Duy': ['Python', 'Database', 'ML'], 'Laxmi': ['Python', 'Database', 'ML'], 'Antonio': ['Python', 'Database', 'ML'], 'Maria': ['Python', 'Database', 'ML']}\n",
      "{'Duy': ['Python', 'Database', 'ML'], 'Laxmi': ['Python', 'Database', 'ML'], 'Antonio': ['JavaScript', 'Database', 'NodeJS'], 'Maria': ['Python', 'Database', 'ML']}\n",
      "{'Duy': ['Python', 'Database', 'ML'], 'Laxmi': ['Python', 'Database', 'ML'], 'Antonio': ['JavaScript', 'Database', 'NodeJS', 'ReactJs'], 'Maria': ['Python', 'Database', 'ML']}\n",
      "{'Duy': ['Python', 'Database', 'ML'], 'Laxmi': ['Python', 'Database', 'ML'], 'Antonio': ['JavaScript', 'Database', 'NodeJS', 'Vuejs'], 'Maria': ['Python', 'Database', 'ML']}\n",
      "{'Laxmi': ['Python', 'Database', 'ML'], 'Antonio': ['JavaScript', 'Database', 'NodeJS', 'Vuejs'], 'Maria': ['Python', 'Database', 'ML']}\n"
     ]
    }
   ],
   "source": [
    "keys = [\"a\", \"b\", \"c\", \"d\"]\n",
    "values = [1, 2, 3, 4]\n",
    "a = dict(zip(keys, values))\n",
    "print(a)\n",
    "\n",
    "dict1 = {\"x\": 3, \"y\": 4}\n",
    "dict2 = {\"m\": 1, \"n\": 9}\n",
    "dict1.update(dict2)\n",
    "print(dict1)\n",
    "\n",
    "students = [\"Duy\", \"Laxmi\", \"Antonio\", \"Maria\"]\n",
    "course = [\"Python\",\"Database\",\"ML\"] \n",
    "students_profile = {student: course for student in students}\n",
    "print(students_profile)\n",
    "\n",
    "students_profile[\"Antonio\"] = [\"JavaScript\", \"Database\", \"NodeJS\"]\n",
    "print(students_profile)\n",
    "\n",
    "students_profile[\"Antonio\"].append(\"ReactJs\")\n",
    "print(students_profile)\n",
    "\n",
    "students_profile[\"Antonio\"][3] = \"Vuejs\"\n",
    "print(students_profile)\n",
    "\n",
    "del students_profile[\"Duy\"]\n",
    "print(students_profile)"
   ]
  }
 ],
 "metadata": {
  "kernelspec": {
   "display_name": "Python 3 (ipykernel)",
   "language": "python",
   "name": "python3"
  },
  "language_info": {
   "codemirror_mode": {
    "name": "ipython",
    "version": 3
   },
   "file_extension": ".py",
   "mimetype": "text/x-python",
   "name": "python",
   "nbconvert_exporter": "python",
   "pygments_lexer": "ipython3",
   "version": "3.9.13"
  }
 },
 "nbformat": 4,
 "nbformat_minor": 5
}
